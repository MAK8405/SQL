{
 "cells": [
  {
   "cell_type": "code",
   "execution_count": 34,
   "id": "ffe11284",
   "metadata": {},
   "outputs": [
    {
     "name": "stdout",
     "output_type": "stream",
     "text": [
      "The sql extension is already loaded. To reload it, use:\n",
      "  %reload_ext sql\n"
     ]
    }
   ],
   "source": [
    "%load_ext sql\n",
    "%sql sqlite:///northwind.db"
   ]
  },
  {
   "cell_type": "code",
   "execution_count": 35,
   "id": "1dc081d6",
   "metadata": {},
   "outputs": [
    {
     "name": "stdout",
     "output_type": "stream",
     "text": [
      " * sqlite:///northwind.db\n",
      "Done.\n"
     ]
    },
    {
     "data": {
      "text/html": [
       "<table>\n",
       "    <thead>\n",
       "        <tr>\n",
       "            <th>CustomerID</th>\n",
       "            <th>COUNT(*)</th>\n",
       "        </tr>\n",
       "    </thead>\n",
       "    <tbody>\n",
       "    </tbody>\n",
       "</table>"
      ],
      "text/plain": [
       "[]"
      ]
     },
     "execution_count": 35,
     "metadata": {},
     "output_type": "execute_result"
    }
   ],
   "source": [
    "%%sql\n",
    "SELECT CustomerID, COUNT(*) \n",
    "FROM Customers \n",
    "GROUP BY CustomerID \n",
    "HAVING COUNT(*) > 1;"
   ]
  },
  {
   "cell_type": "code",
   "execution_count": 36,
   "id": "5d8efa42",
   "metadata": {},
   "outputs": [
    {
     "name": "stdout",
     "output_type": "stream",
     "text": [
      " * sqlite:///northwind.db\n",
      "Done.\n"
     ]
    },
    {
     "data": {
      "text/plain": [
       "[]"
      ]
     },
     "execution_count": 36,
     "metadata": {},
     "output_type": "execute_result"
    }
   ],
   "source": [
    "%%sql\n",
    "CREATE TABLE Customers_new (\n",
    "    CustomerID TEXT PRIMARY KEY,\n",
    "    CustomerName TEXT,\n",
    "    ContactName TEXT,\n",
    "    ContactTitle TEXT,\n",
    "    Address TEXT,\n",
    "    City TEXT,\n",
    "    Region TEXT,\n",
    "    PostalCode TEXT,\n",
    "    Country TEXT,\n",
    "    Phone TEXT\n",
    ");\n"
   ]
  },
  {
   "cell_type": "code",
   "execution_count": 37,
   "id": "ee481d72",
   "metadata": {},
   "outputs": [
    {
     "name": "stdout",
     "output_type": "stream",
     "text": [
      " * sqlite:///northwind.db\n",
      "93 rows affected.\n"
     ]
    },
    {
     "data": {
      "text/plain": [
       "[]"
      ]
     },
     "execution_count": 37,
     "metadata": {},
     "output_type": "execute_result"
    }
   ],
   "source": [
    "%%sql\n",
    "INSERT INTO Customers_new (\n",
    "    CustomerID,\n",
    "    CustomerName,\n",
    "    ContactName,\n",
    "    ContactTitle,\n",
    "    Address,\n",
    "    City,\n",
    "    Region,\n",
    "    PostalCode,\n",
    "    Country,\n",
    "    Phone\n",
    ")\n",
    "SELECT\n",
    "    CustomerID,\n",
    "    CustomerName,\n",
    "    ContactName,\n",
    "    ContactTitle,\n",
    "    Address,\n",
    "    City,\n",
    "    Region,\n",
    "    PostalCode,\n",
    "    Country,\n",
    "    Phone\n",
    "FROM Customers;\n"
   ]
  },
  {
   "cell_type": "code",
   "execution_count": 38,
   "id": "9f7c12fc",
   "metadata": {},
   "outputs": [
    {
     "name": "stdout",
     "output_type": "stream",
     "text": [
      " * sqlite:///northwind.db\n",
      "Done.\n"
     ]
    },
    {
     "data": {
      "text/plain": [
       "[]"
      ]
     },
     "execution_count": 38,
     "metadata": {},
     "output_type": "execute_result"
    }
   ],
   "source": [
    "%%sql\n",
    "DROP TABLE Customers;"
   ]
  },
  {
   "cell_type": "code",
   "execution_count": 39,
   "id": "2ab90ee1",
   "metadata": {},
   "outputs": [
    {
     "name": "stdout",
     "output_type": "stream",
     "text": [
      " * sqlite:///northwind.db\n",
      "(sqlite3.OperationalError) error in view Customer and Suppliers by City: no such table: main.Customers\n",
      "[SQL: ALTER TABLE Customers_new RENAME TO Customers;]\n",
      "(Background on this error at: https://sqlalche.me/e/20/e3q8)\n"
     ]
    }
   ],
   "source": [
    "%%sql\n",
    "ALTER TABLE Customers_new RENAME TO Customers;"
   ]
  },
  {
   "cell_type": "code",
   "execution_count": 40,
   "id": "b07cc16c",
   "metadata": {},
   "outputs": [
    {
     "name": "stdout",
     "output_type": "stream",
     "text": [
      " * sqlite:///northwind.db\n",
      "Done.\n"
     ]
    },
    {
     "data": {
      "text/html": [
       "<table>\n",
       "    <thead>\n",
       "        <tr>\n",
       "            <th>name</th>\n",
       "        </tr>\n",
       "    </thead>\n",
       "    <tbody>\n",
       "        <tr>\n",
       "            <td>Customer and Suppliers by City</td>\n",
       "        </tr>\n",
       "        <tr>\n",
       "            <td>Invoices</td>\n",
       "        </tr>\n",
       "        <tr>\n",
       "            <td>Orders Qry</td>\n",
       "        </tr>\n",
       "        <tr>\n",
       "            <td>Quarterly Orders</td>\n",
       "        </tr>\n",
       "        <tr>\n",
       "            <td>Sales Totals by Amount</td>\n",
       "        </tr>\n",
       "    </tbody>\n",
       "</table>"
      ],
      "text/plain": [
       "[('Customer and Suppliers by City',),\n",
       " ('Invoices',),\n",
       " ('Orders Qry',),\n",
       " ('Quarterly Orders',),\n",
       " ('Sales Totals by Amount',)]"
      ]
     },
     "execution_count": 40,
     "metadata": {},
     "output_type": "execute_result"
    }
   ],
   "source": [
    "%%sql\n",
    "SELECT name\n",
    "FROM sqlite_master\n",
    "WHERE type = 'view' AND sql LIKE '%Customers%';"
   ]
  },
  {
   "cell_type": "code",
   "execution_count": 41,
   "id": "a51fc452",
   "metadata": {},
   "outputs": [
    {
     "name": "stdout",
     "output_type": "stream",
     "text": [
      " * sqlite:///northwind.db\n",
      "Done.\n",
      "Done.\n",
      "Done.\n",
      "Done.\n",
      "Done.\n"
     ]
    },
    {
     "data": {
      "text/plain": [
       "[]"
      ]
     },
     "execution_count": 41,
     "metadata": {},
     "output_type": "execute_result"
    }
   ],
   "source": [
    "%%sql\n",
    "DROP VIEW \"Customer and Suppliers by City\";\n",
    "DROP VIEW \"Invoices\";\n",
    "DROP VIEW \"Orders Qry\";\n",
    "DROP VIEW \"Quarterly Orders\";\n",
    "DROP VIEW \"Sales Totals by Amount\";"
   ]
  },
  {
   "cell_type": "code",
   "execution_count": 42,
   "id": "784b8c38",
   "metadata": {},
   "outputs": [
    {
     "name": "stdout",
     "output_type": "stream",
     "text": [
      " * sqlite:///northwind.db\n",
      "Done.\n"
     ]
    },
    {
     "data": {
      "text/plain": [
       "[]"
      ]
     },
     "execution_count": 42,
     "metadata": {},
     "output_type": "execute_result"
    }
   ],
   "source": [
    "%%sql\n",
    "ALTER TABLE Customers_new RENAME TO Customers;"
   ]
  },
  {
   "cell_type": "code",
   "execution_count": 43,
   "id": "9759fba6",
   "metadata": {},
   "outputs": [
    {
     "name": "stdout",
     "output_type": "stream",
     "text": [
      " * sqlite:///northwind.db\n",
      "Done.\n"
     ]
    },
    {
     "data": {
      "text/plain": [
       "[]"
      ]
     },
     "execution_count": 43,
     "metadata": {},
     "output_type": "execute_result"
    }
   ],
   "source": [
    "%%sql\n",
    "CREATE VIEW \"Customer and Suppliers by City\" AS\n",
    "SELECT City, CompanyName, ContactName, 'Customers' AS Relationship\n",
    "FROM Customers\n",
    "UNION\n",
    "SELECT City, CompanyName, ContactName, 'Suppliers'\n",
    "FROM Suppliers;"
   ]
  },
  {
   "cell_type": "code",
   "execution_count": 44,
   "id": "6450c793",
   "metadata": {},
   "outputs": [
    {
     "name": "stdout",
     "output_type": "stream",
     "text": [
      " * sqlite:///northwind.db\n",
      "Done.\n"
     ]
    },
    {
     "data": {
      "text/plain": [
       "[]"
      ]
     },
     "execution_count": 44,
     "metadata": {},
     "output_type": "execute_result"
    }
   ],
   "source": [
    "%%sql\n",
    "CREATE VIEW \"Invoices\" AS\n",
    "SELECT Orders.OrderID, Customers.CustomerName, Customers.ContactName, \n",
    "       Orders.OrderDate, Orders.ShipName, Orders.ShipAddress, \n",
    "       Orders.ShipCity, Orders.ShipRegion, Orders.ShipPostalCode, \n",
    "       Orders.ShipCountry, OrderDetails.ProductID, Products.ProductName, \n",
    "       OrderDetails.UnitPrice, OrderDetails.Quantity, \n",
    "       OrderDetails.Discount, \n",
    "       (OrderDetails.UnitPrice * Quantity * (1 - Discount)) AS ExtendedPrice\n",
    "FROM Customers\n",
    "JOIN Orders ON Customers.CustomerID = Orders.CustomerID\n",
    "JOIN OrderDetails ON Orders.OrderID = OrderDetails.OrderID\n",
    "JOIN Products ON OrderDetails.ProductID = Products.ProductID;"
   ]
  },
  {
   "cell_type": "code",
   "execution_count": 45,
   "id": "1ac68294",
   "metadata": {},
   "outputs": [
    {
     "name": "stdout",
     "output_type": "stream",
     "text": [
      " * sqlite:///northwind.db\n",
      "Done.\n"
     ]
    },
    {
     "data": {
      "text/plain": [
       "[]"
      ]
     },
     "execution_count": 45,
     "metadata": {},
     "output_type": "execute_result"
    }
   ],
   "source": [
    "%%sql\n",
    "CREATE VIEW \"Orders Qry\" AS\n",
    "SELECT Orders.OrderID, Orders.CustomerID, Customers.CustomerName, \n",
    "       Orders.EmployeeID, Orders.OrderDate, Orders.RequiredDate, \n",
    "       Orders.ShippedDate, Orders.ShipVia, Orders.Freight, \n",
    "       Orders.ShipName, Orders.ShipAddress, Orders.ShipCity, \n",
    "       Orders.ShipRegion, Orders.ShipPostalCode, Orders.ShipCountry\n",
    "FROM Orders\n",
    "JOIN Customers ON Orders.CustomerID = Customers.CustomerID;\n"
   ]
  },
  {
   "cell_type": "code",
   "execution_count": 46,
   "id": "c82feda3",
   "metadata": {},
   "outputs": [
    {
     "name": "stdout",
     "output_type": "stream",
     "text": [
      " * sqlite:///northwind.db\n",
      "Done.\n"
     ]
    },
    {
     "data": {
      "text/plain": [
       "[]"
      ]
     },
     "execution_count": 46,
     "metadata": {},
     "output_type": "execute_result"
    }
   ],
   "source": [
    "%%sql\n",
    "CREATE VIEW \"Quarterly Orders\" AS\n",
    "SELECT Customers.CustomerName, Orders.OrderID, \n",
    "       Orders.OrderDate, Orders.ShippedDate\n",
    "FROM Customers\n",
    "JOIN Orders ON Customers.CustomerID = Orders.CustomerID\n",
    "WHERE Orders.OrderDate BETWEEN '1997-01-01' AND '1997-03-31';\n"
   ]
  },
  {
   "cell_type": "code",
   "execution_count": 47,
   "id": "ed602693",
   "metadata": {},
   "outputs": [
    {
     "name": "stdout",
     "output_type": "stream",
     "text": [
      " * sqlite:///northwind.db\n",
      "Done.\n"
     ]
    },
    {
     "data": {
      "text/plain": [
       "[]"
      ]
     },
     "execution_count": 47,
     "metadata": {},
     "output_type": "execute_result"
    }
   ],
   "source": [
    "%%sql\n",
    "CREATE VIEW \"Sales Totals by Amount\" AS\n",
    "SELECT Customers.CustomerName, Orders.OrderID, \n",
    "       SUM((UnitPrice * Quantity) * (1 - Discount)) AS SaleAmount, \n",
    "       Orders.OrderDate\n",
    "FROM Orders\n",
    "JOIN Customers ON Orders.CustomerID = Customers.CustomerID\n",
    "JOIN OrderDetails ON Orders.OrderID = OrderDetails.OrderID\n",
    "GROUP BY Customers.CustomerName, Orders.OrderID\n",
    "HAVING SaleAmount > 2500;"
   ]
  },
  {
   "cell_type": "code",
   "execution_count": 48,
   "id": "9ad620c9",
   "metadata": {},
   "outputs": [
    {
     "name": "stdout",
     "output_type": "stream",
     "text": [
      " * sqlite:///northwind.db\n",
      "Done.\n"
     ]
    },
    {
     "data": {
      "text/plain": [
       "[]"
      ]
     },
     "execution_count": 48,
     "metadata": {},
     "output_type": "execute_result"
    }
   ],
   "source": [
    "%%sql\n",
    "DROP VIEW \"Sales Totals by Amount\";"
   ]
  },
  {
   "cell_type": "code",
   "execution_count": 49,
   "id": "3daba321",
   "metadata": {},
   "outputs": [
    {
     "name": "stdout",
     "output_type": "stream",
     "text": [
      " * sqlite:///northwind.db\n",
      "Done.\n"
     ]
    },
    {
     "data": {
      "text/plain": [
       "[]"
      ]
     },
     "execution_count": 49,
     "metadata": {},
     "output_type": "execute_result"
    }
   ],
   "source": [
    "%%sql\n",
    "CREATE VIEW \"Sales Totals by Amount\" AS\n",
    "SELECT \n",
    "    Customers.CompanyName AS CustomerName,\n",
    "    Orders.OrderID, \n",
    "    SUM((UnitPrice * Quantity) * (1 - Discount)) AS SaleAmount, \n",
    "    Orders.OrderDate\n",
    "FROM Orders\n",
    "JOIN Customers ON Orders.CustomerID = Customers.CustomerID\n",
    "JOIN OrderDetails ON Orders.OrderID = OrderDetails.OrderID\n",
    "GROUP BY Customers.CompanyName, Orders.OrderID\n",
    "HAVING SaleAmount > 2500;\n"
   ]
  },
  {
   "cell_type": "code",
   "execution_count": 50,
   "id": "69a0f7a5",
   "metadata": {},
   "outputs": [
    {
     "name": "stdout",
     "output_type": "stream",
     "text": [
      " * sqlite:///northwind.db\n",
      "(sqlite3.OperationalError) no such table: main.OrderDetails\n",
      "[SQL: SELECT * FROM \"Sales Totals by Amount\" LIMIT 10;]\n",
      "(Background on this error at: https://sqlalche.me/e/20/e3q8)\n"
     ]
    }
   ],
   "source": [
    "%%sql\n",
    "SELECT * FROM \"Sales Totals by Amount\" LIMIT 10;\n"
   ]
  }
 ],
 "metadata": {
  "kernelspec": {
   "display_name": "venv",
   "language": "python",
   "name": "python3"
  },
  "language_info": {
   "codemirror_mode": {
    "name": "ipython",
    "version": 3
   },
   "file_extension": ".py",
   "mimetype": "text/x-python",
   "name": "python",
   "nbconvert_exporter": "python",
   "pygments_lexer": "ipython3",
   "version": "3.13.3"
  }
 },
 "nbformat": 4,
 "nbformat_minor": 5
}
