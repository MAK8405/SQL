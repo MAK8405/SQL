{
 "cells": [
  {
   "cell_type": "code",
   "execution_count": 1,
   "metadata": {},
   "outputs": [],
   "source": [
    "%load_ext sql\n",
    "%sql sqlite:///northwind.db"
   ]
  },
  {
   "cell_type": "code",
   "execution_count": 2,
   "id": "a86c2549",
   "metadata": {},
   "outputs": [
    {
     "name": "stdout",
     "output_type": "stream",
     "text": [
      " * sqlite:///northwind.db\n",
      "Done.\n",
      "93 rows affected.\n",
      "Done.\n",
      "16282 rows affected.\n",
      "Done.\n",
      "Done.\n",
      "Done.\n",
      "Done.\n",
      "Done.\n",
      "Done.\n",
      "Done.\n",
      "Done.\n",
      "Done.\n",
      "Done.\n",
      "Done.\n",
      "Done.\n",
      "Done.\n",
      "Done.\n"
     ]
    },
    {
     "data": {
      "text/plain": [
       "[]"
      ]
     },
     "execution_count": 2,
     "metadata": {},
     "output_type": "execute_result"
    }
   ],
   "source": [
    "%%sql\n",
    "CREATE TABLE Customers_new (\n",
    "  CustomerID INTEGER PRIMARY KEY AUTOINCREMENT,\n",
    "  CustomerID_old TEXT UNIQUE,\n",
    "  CustomerName TEXT,\n",
    "  ContactName TEXT,\n",
    "  ContactTitle TEXT,\n",
    "  Address TEXT,\n",
    "  City TEXT,\n",
    "  Region TEXT,\n",
    "  PostalCode TEXT,\n",
    "  Country TEXT,\n",
    "  Phone TEXT,\n",
    "  Fax TEXT\n",
    ");\n",
    "\n",
    "INSERT INTO Customers_new (CustomerID_old, CustomerName, ContactName, ContactTitle, Address, City, Region, PostalCode, Country, Phone, Fax)\n",
    "SELECT CustomerID, CompanyName, ContactName, ContactTitle, Address, City, Region, PostalCode, Country, Phone, Fax\n",
    "FROM Customers;\n",
    "CREATE TABLE Orders_new (\n",
    "  OrderID INTEGER PRIMARY KEY,\n",
    "  CustomerID INTEGER,\n",
    "  EmployeeID INTEGER,\n",
    "  OrderDate TEXT,\n",
    "  RequiredDate TEXT,\n",
    "  ShippedDate TEXT,\n",
    "  ShipVia INTEGER,\n",
    "  Freight REAL,\n",
    "  ShipName TEXT,\n",
    "  ShipAddress TEXT,\n",
    "  ShipCity TEXT,\n",
    "  ShipRegion TEXT,\n",
    "  ShipPostalCode TEXT,\n",
    "  ShipCountry TEXT,\n",
    "  FOREIGN KEY (CustomerID) REFERENCES Customers_new(CustomerID)\n",
    ");\n",
    "INSERT INTO Orders_new (OrderID, CustomerID, EmployeeID, OrderDate, RequiredDate, ShippedDate, ShipVia, Freight, ShipName, ShipAddress, ShipCity, ShipRegion, ShipPostalCode, ShipCountry)\n",
    "SELECT o.OrderID, c.CustomerID, o.EmployeeID, o.OrderDate, o.RequiredDate, o.ShippedDate, o.ShipVia, o.Freight, o.ShipName, o.ShipAddress, o.ShipCity, o.ShipRegion, o.ShipPostalCode, o.ShipCountry\n",
    "FROM Orders o\n",
    "JOIN Customers_new c ON o.CustomerID = c.CustomerID_old;\n",
    "DROP VIEW IF EXISTS \"Quarterly Orders\";\n",
    "DROP VIEW IF EXISTS \"Sales Totals by Amount\";\n",
    "DROP VIEW IF EXISTS \"Summary of Sales by Quarter\";\n",
    "DROP VIEW IF EXISTS \"Summary of Sales by Year\";\n",
    "DROP VIEW IF EXISTS \"Sales by Category\";\n",
    "DROP VIEW IF EXISTS \"Product Sales for 1997\";\n",
    "DROP VIEW IF EXISTS \"Category Sales for 1997\";\n",
    "DROP VIEW IF EXISTS \"Invoices\";\n",
    "DROP VIEW IF EXISTS \"Customer and Suppliers by City\";\n",
    "DROP VIEW IF EXISTS \"Orders Qry\";\n",
    "-- Add any other views you have that reference these tables\n",
    "DROP TABLE IF EXISTS Customers;\n",
    "DROP TABLE IF EXISTS Orders;\n",
    "ALTER TABLE Customers_new RENAME TO Customers;\n",
    "ALTER TABLE Orders_new RENAME TO Orders;\n"
   ]
  }
 ],
 "metadata": {
  "kernelspec": {
   "display_name": "venv",
   "language": "python",
   "name": "python3"
  },
  "language_info": {
   "codemirror_mode": {
    "name": "ipython",
    "version": 3
   },
   "file_extension": ".py",
   "mimetype": "text/x-python",
   "name": "python",
   "nbconvert_exporter": "python",
   "pygments_lexer": "ipython3",
   "version": "3.13.3"
  }
 },
 "nbformat": 4,
 "nbformat_minor": 5
}
