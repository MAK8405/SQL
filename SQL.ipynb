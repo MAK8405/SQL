{
 "cells": [
  {
   "cell_type": "markdown",
   "id": "f8caa08a",
   "metadata": {},
   "source": [
    "# SQL"
   ]
  },
  {
   "cell_type": "markdown",
   "id": "da1f6688",
   "metadata": {},
   "source": [
    "## Getting Data From One Table"
   ]
  },
  {
   "cell_type": "code",
   "execution_count": 45,
   "id": "42b0400f",
   "metadata": {},
   "outputs": [
    {
     "name": "stdout",
     "output_type": "stream",
     "text": [
      "The sql extension is already loaded. To reload it, use:\n",
      "  %reload_ext sql\n"
     ]
    }
   ],
   "source": [
    "%load_ext sql\n",
    "%sql sqlite:///northwind.db"
   ]
  },
  {
   "cell_type": "code",
   "execution_count": null,
   "id": "858d6fc8",
   "metadata": {},
   "outputs": [
    {
     "name": "stdout",
     "output_type": "stream",
     "text": [
      " * sqlite:///northwind.db\n",
      "(sqlite3.OperationalError) no such column: \"CompanyName\"\n",
      "[SQL: ALTER TABLE Customers RENAME COLUMN CompanyName TO CustomerName;]\n",
      "(Background on this error at: https://sqlalche.me/e/20/e3q8)\n"
     ]
    }
   ],
   "source": [
    "%%sql\n",
    "ALTER TABLE Customers RENAME COLUMN CompanyName TO CustomerName;"
   ]
  },
  {
   "cell_type": "code",
   "execution_count": 77,
   "id": "efb2207f",
   "metadata": {},
   "outputs": [
    {
     "name": "stdout",
     "output_type": "stream",
     "text": [
      " * sqlite:///northwind.db\n",
      "Done.\n"
     ]
    },
    {
     "data": {
      "text/html": [
       "<table>\n",
       "    <thead>\n",
       "        <tr>\n",
       "            <th>CustomerID</th>\n",
       "            <th>CustomerName</th>\n",
       "            <th>ContactName</th>\n",
       "            <th>ContactTitle</th>\n",
       "            <th>Address</th>\n",
       "            <th>City</th>\n",
       "            <th>Region</th>\n",
       "            <th>PostalCode</th>\n",
       "            <th>Country</th>\n",
       "            <th>Phone</th>\n",
       "            <th>Fax</th>\n",
       "        </tr>\n",
       "    </thead>\n",
       "    <tbody>\n",
       "        <tr>\n",
       "            <td>ALFKI</td>\n",
       "            <td>Alfreds Futterkiste</td>\n",
       "            <td>Maria Anders</td>\n",
       "            <td>Sales Representative</td>\n",
       "            <td>Obere Str. 57</td>\n",
       "            <td>Berlin</td>\n",
       "            <td>Western Europe</td>\n",
       "            <td>12209</td>\n",
       "            <td>Germany</td>\n",
       "            <td>030-0074321</td>\n",
       "            <td>030-0076545</td>\n",
       "        </tr>\n",
       "        <tr>\n",
       "            <td>ANATR</td>\n",
       "            <td>Ana Trujillo Emparedados y helados</td>\n",
       "            <td>Ana Trujillo</td>\n",
       "            <td>Owner</td>\n",
       "            <td>Avda. de la Constitución 2222</td>\n",
       "            <td>México D.F.</td>\n",
       "            <td>Central America</td>\n",
       "            <td>05021</td>\n",
       "            <td>Mexico</td>\n",
       "            <td>(5) 555-4729</td>\n",
       "            <td>(5) 555-3745</td>\n",
       "        </tr>\n",
       "        <tr>\n",
       "            <td>ANTON</td>\n",
       "            <td>Antonio Moreno Taquería</td>\n",
       "            <td>Antonio Moreno</td>\n",
       "            <td>Owner</td>\n",
       "            <td>Mataderos  2312</td>\n",
       "            <td>México D.F.</td>\n",
       "            <td>Central America</td>\n",
       "            <td>05023</td>\n",
       "            <td>Mexico</td>\n",
       "            <td>(5) 555-3932</td>\n",
       "            <td>None</td>\n",
       "        </tr>\n",
       "        <tr>\n",
       "            <td>AROUT</td>\n",
       "            <td>Around the Horn</td>\n",
       "            <td>Thomas Hardy</td>\n",
       "            <td>Sales Representative</td>\n",
       "            <td>120 Hanover Sq.</td>\n",
       "            <td>London</td>\n",
       "            <td>British Isles</td>\n",
       "            <td>WA1 1DP</td>\n",
       "            <td>UK</td>\n",
       "            <td>(171) 555-7788</td>\n",
       "            <td>(171) 555-6750</td>\n",
       "        </tr>\n",
       "        <tr>\n",
       "            <td>BERGS</td>\n",
       "            <td>Berglunds snabbköp</td>\n",
       "            <td>Christina Berglund</td>\n",
       "            <td>Order Administrator</td>\n",
       "            <td>Berguvsvägen  8</td>\n",
       "            <td>Luleå</td>\n",
       "            <td>Northern Europe</td>\n",
       "            <td>S-958 22</td>\n",
       "            <td>Sweden</td>\n",
       "            <td>0921-12 34 65</td>\n",
       "            <td>0921-12 34 67</td>\n",
       "        </tr>\n",
       "    </tbody>\n",
       "</table>"
      ],
      "text/plain": [
       "[('ALFKI', 'Alfreds Futterkiste', 'Maria Anders', 'Sales Representative', 'Obere Str. 57', 'Berlin', 'Western Europe', '12209', 'Germany', '030-0074321', '030-0076545'),\n",
       " ('ANATR', 'Ana Trujillo Emparedados y helados', 'Ana Trujillo', 'Owner', 'Avda. de la Constitución 2222', 'México D.F.', 'Central America', '05021', 'Mexico', '(5) 555-4729', '(5) 555-3745'),\n",
       " ('ANTON', 'Antonio Moreno Taquería', 'Antonio Moreno', 'Owner', 'Mataderos  2312', 'México D.F.', 'Central America', '05023', 'Mexico', '(5) 555-3932', None),\n",
       " ('AROUT', 'Around the Horn', 'Thomas Hardy', 'Sales Representative', '120 Hanover Sq.', 'London', 'British Isles', 'WA1 1DP', 'UK', '(171) 555-7788', '(171) 555-6750'),\n",
       " ('BERGS', 'Berglunds snabbköp', 'Christina Berglund', 'Order Administrator', 'Berguvsvägen  8', 'Luleå', 'Northern Europe', 'S-958 22', 'Sweden', '0921-12 34 65', '0921-12 34 67')]"
      ]
     },
     "execution_count": 77,
     "metadata": {},
     "output_type": "execute_result"
    }
   ],
   "source": [
    "%%sql\n",
    "--Star means all of them\n",
    "SELECT * FROM Customers LIMIT 5;"
   ]
  },
  {
   "cell_type": "code",
   "execution_count": 48,
   "id": "8af890bd",
   "metadata": {},
   "outputs": [
    {
     "name": "stdout",
     "output_type": "stream",
     "text": [
      " * sqlite:///northwind.db\n",
      "Done.\n"
     ]
    },
    {
     "data": {
      "text/html": [
       "<table>\n",
       "    <thead>\n",
       "        <tr>\n",
       "            <th>ContactName</th>\n",
       "            <th>Address</th>\n",
       "        </tr>\n",
       "    </thead>\n",
       "    <tbody>\n",
       "        <tr>\n",
       "            <td>Maria Anders</td>\n",
       "            <td>Obere Str. 57</td>\n",
       "        </tr>\n",
       "        <tr>\n",
       "            <td>Ana Trujillo</td>\n",
       "            <td>Avda. de la Constitución 2222</td>\n",
       "        </tr>\n",
       "        <tr>\n",
       "            <td>Antonio Moreno</td>\n",
       "            <td>Mataderos  2312</td>\n",
       "        </tr>\n",
       "        <tr>\n",
       "            <td>Thomas Hardy</td>\n",
       "            <td>120 Hanover Sq.</td>\n",
       "        </tr>\n",
       "        <tr>\n",
       "            <td>Christina Berglund</td>\n",
       "            <td>Berguvsvägen  8</td>\n",
       "        </tr>\n",
       "    </tbody>\n",
       "</table>"
      ],
      "text/plain": [
       "[('Maria Anders', 'Obere Str. 57'),\n",
       " ('Ana Trujillo', 'Avda. de la Constitución 2222'),\n",
       " ('Antonio Moreno', 'Mataderos  2312'),\n",
       " ('Thomas Hardy', '120 Hanover Sq.'),\n",
       " ('Christina Berglund', 'Berguvsvägen  8')]"
      ]
     },
     "execution_count": 48,
     "metadata": {},
     "output_type": "execute_result"
    }
   ],
   "source": [
    "%%sql\n",
    "SELECT ContactName, Address FROM Customers LIMIT 5;"
   ]
  },
  {
   "cell_type": "code",
   "execution_count": 49,
   "id": "9e87b937",
   "metadata": {},
   "outputs": [
    {
     "name": "stdout",
     "output_type": "stream",
     "text": [
      " * sqlite:///northwind.db\n",
      "Done.\n"
     ]
    },
    {
     "data": {
      "text/html": [
       "<table>\n",
       "    <thead>\n",
       "        <tr>\n",
       "            <th>ContactName</th>\n",
       "            <th>Address</th>\n",
       "        </tr>\n",
       "    </thead>\n",
       "    <tbody>\n",
       "        <tr>\n",
       "            <td>Maria Anders</td>\n",
       "            <td>Obere Str. 57</td>\n",
       "        </tr>\n",
       "        <tr>\n",
       "            <td>Ana Trujillo</td>\n",
       "            <td>Avda. de la Constitución 2222</td>\n",
       "        </tr>\n",
       "        <tr>\n",
       "            <td>Antonio Moreno</td>\n",
       "            <td>Mataderos  2312</td>\n",
       "        </tr>\n",
       "        <tr>\n",
       "            <td>Thomas Hardy</td>\n",
       "            <td>120 Hanover Sq.</td>\n",
       "        </tr>\n",
       "        <tr>\n",
       "            <td>Christina Berglund</td>\n",
       "            <td>Berguvsvägen  8</td>\n",
       "        </tr>\n",
       "    </tbody>\n",
       "</table>"
      ],
      "text/plain": [
       "[('Maria Anders', 'Obere Str. 57'),\n",
       " ('Ana Trujillo', 'Avda. de la Constitución 2222'),\n",
       " ('Antonio Moreno', 'Mataderos  2312'),\n",
       " ('Thomas Hardy', '120 Hanover Sq.'),\n",
       " ('Christina Berglund', 'Berguvsvägen  8')]"
      ]
     },
     "execution_count": 49,
     "metadata": {},
     "output_type": "execute_result"
    }
   ],
   "source": [
    "%%sql\n",
    "--SQL is not case sensitive\n",
    "--Because we have different SQLs, maybe we have case sensitive ones to. But in interview they don't care about these\n",
    "sElect ConTactName, Address FROM CUstomers LIMIT 5;"
   ]
  },
  {
   "cell_type": "markdown",
   "id": "4e1c2b10",
   "metadata": {},
   "source": [
    "## Data Types"
   ]
  },
  {
   "cell_type": "code",
   "execution_count": 50,
   "id": "9f0920a2",
   "metadata": {},
   "outputs": [
    {
     "name": "stdout",
     "output_type": "stream",
     "text": [
      " * sqlite:///northwind.db\n",
      "Done.\n"
     ]
    },
    {
     "data": {
      "text/html": [
       "<table>\n",
       "    <thead>\n",
       "        <tr>\n",
       "            <th>OrderID</th>\n",
       "            <th>CustomerID</th>\n",
       "            <th>EmployeeID</th>\n",
       "            <th>OrderDate</th>\n",
       "            <th>RequiredDate</th>\n",
       "            <th>ShippedDate</th>\n",
       "            <th>ShipVia</th>\n",
       "            <th>Freight</th>\n",
       "            <th>ShipName</th>\n",
       "            <th>ShipAddress</th>\n",
       "            <th>ShipCity</th>\n",
       "            <th>ShipRegion</th>\n",
       "            <th>ShipPostalCode</th>\n",
       "            <th>ShipCountry</th>\n",
       "        </tr>\n",
       "    </thead>\n",
       "    <tbody>\n",
       "        <tr>\n",
       "            <td>10248</td>\n",
       "            <td>VINET</td>\n",
       "            <td>5</td>\n",
       "            <td>2016-07-04</td>\n",
       "            <td>2016-08-01</td>\n",
       "            <td>2016-07-16</td>\n",
       "            <td>3</td>\n",
       "            <td>16.75</td>\n",
       "            <td>Vins et alcools Chevalier</td>\n",
       "            <td>59 rue de l-Abbaye</td>\n",
       "            <td>Reims</td>\n",
       "            <td>Western Europe</td>\n",
       "            <td>51100</td>\n",
       "            <td>France</td>\n",
       "        </tr>\n",
       "        <tr>\n",
       "            <td>10249</td>\n",
       "            <td>TOMSP</td>\n",
       "            <td>6</td>\n",
       "            <td>2016-07-05</td>\n",
       "            <td>2016-08-16</td>\n",
       "            <td>2016-07-10</td>\n",
       "            <td>1</td>\n",
       "            <td>22.25</td>\n",
       "            <td>Toms Spezialitäten</td>\n",
       "            <td>Luisenstr. 48</td>\n",
       "            <td>Münster</td>\n",
       "            <td>Western Europe</td>\n",
       "            <td>44087</td>\n",
       "            <td>Germany</td>\n",
       "        </tr>\n",
       "        <tr>\n",
       "            <td>10250</td>\n",
       "            <td>HANAR</td>\n",
       "            <td>4</td>\n",
       "            <td>2016-07-08</td>\n",
       "            <td>2016-08-05</td>\n",
       "            <td>2016-07-12</td>\n",
       "            <td>2</td>\n",
       "            <td>25</td>\n",
       "            <td>Hanari Carnes</td>\n",
       "            <td>Rua do Paço, 67</td>\n",
       "            <td>Rio de Janeiro</td>\n",
       "            <td>South America</td>\n",
       "            <td>05454-876</td>\n",
       "            <td>Brazil</td>\n",
       "        </tr>\n",
       "        <tr>\n",
       "            <td>10251</td>\n",
       "            <td>VICTE</td>\n",
       "            <td>3</td>\n",
       "            <td>2016-07-08</td>\n",
       "            <td>2016-08-05</td>\n",
       "            <td>2016-07-15</td>\n",
       "            <td>1</td>\n",
       "            <td>20.25</td>\n",
       "            <td>Victuailles en stock</td>\n",
       "            <td>2, rue du Commerce</td>\n",
       "            <td>Lyon</td>\n",
       "            <td>Western Europe</td>\n",
       "            <td>69004</td>\n",
       "            <td>France</td>\n",
       "        </tr>\n",
       "        <tr>\n",
       "            <td>10252</td>\n",
       "            <td>SUPRD</td>\n",
       "            <td>4</td>\n",
       "            <td>2016-07-09</td>\n",
       "            <td>2016-08-06</td>\n",
       "            <td>2016-07-11</td>\n",
       "            <td>2</td>\n",
       "            <td>36.25</td>\n",
       "            <td>Suprêmes délices</td>\n",
       "            <td>Boulevard Tirou, 255</td>\n",
       "            <td>Charleroi</td>\n",
       "            <td>Western Europe</td>\n",
       "            <td>B-6000</td>\n",
       "            <td>Belgium</td>\n",
       "        </tr>\n",
       "    </tbody>\n",
       "</table>"
      ],
      "text/plain": [
       "[(10248, 'VINET', 5, '2016-07-04', '2016-08-01', '2016-07-16', 3, 16.75, 'Vins et alcools Chevalier', '59 rue de l-Abbaye', 'Reims', 'Western Europe', '51100', 'France'),\n",
       " (10249, 'TOMSP', 6, '2016-07-05', '2016-08-16', '2016-07-10', 1, 22.25, 'Toms Spezialitäten', 'Luisenstr. 48', 'Münster', 'Western Europe', '44087', 'Germany'),\n",
       " (10250, 'HANAR', 4, '2016-07-08', '2016-08-05', '2016-07-12', 2, 25, 'Hanari Carnes', 'Rua do Paço, 67', 'Rio de Janeiro', 'South America', '05454-876', 'Brazil'),\n",
       " (10251, 'VICTE', 3, '2016-07-08', '2016-08-05', '2016-07-15', 1, 20.25, 'Victuailles en stock', '2, rue du Commerce', 'Lyon', 'Western Europe', '69004', 'France'),\n",
       " (10252, 'SUPRD', 4, '2016-07-09', '2016-08-06', '2016-07-11', 2, 36.25, 'Suprêmes délices', 'Boulevard Tirou, 255', 'Charleroi', 'Western Europe', 'B-6000', 'Belgium')]"
      ]
     },
     "execution_count": 50,
     "metadata": {},
     "output_type": "execute_result"
    }
   ],
   "source": [
    "%%sql\n",
    "--The [] is not necessary\n",
    "SELECT * FROM [Orders] LIMIT 5"
   ]
  },
  {
   "cell_type": "code",
   "execution_count": 51,
   "id": "3d9ad19d",
   "metadata": {},
   "outputs": [
    {
     "name": "stdout",
     "output_type": "stream",
     "text": [
      " * sqlite:///northwind.db\n",
      "Done.\n"
     ]
    },
    {
     "data": {
      "text/html": [
       "<table>\n",
       "    <thead>\n",
       "        <tr>\n",
       "            <th>ProductID</th>\n",
       "            <th>ProductName</th>\n",
       "            <th>SupplierID</th>\n",
       "            <th>CategoryID</th>\n",
       "            <th>QuantityPerUnit</th>\n",
       "            <th>UnitPrice</th>\n",
       "            <th>UnitsInStock</th>\n",
       "            <th>UnitsOnOrder</th>\n",
       "            <th>ReorderLevel</th>\n",
       "            <th>Discontinued</th>\n",
       "        </tr>\n",
       "    </thead>\n",
       "    <tbody>\n",
       "        <tr>\n",
       "            <td>1</td>\n",
       "            <td>Chai</td>\n",
       "            <td>1</td>\n",
       "            <td>1</td>\n",
       "            <td>10 boxes x 20 bags</td>\n",
       "            <td>18</td>\n",
       "            <td>39</td>\n",
       "            <td>0</td>\n",
       "            <td>10</td>\n",
       "            <td>0</td>\n",
       "        </tr>\n",
       "        <tr>\n",
       "            <td>2</td>\n",
       "            <td>Chang</td>\n",
       "            <td>1</td>\n",
       "            <td>1</td>\n",
       "            <td>24 - 12 oz bottles</td>\n",
       "            <td>19</td>\n",
       "            <td>17</td>\n",
       "            <td>40</td>\n",
       "            <td>25</td>\n",
       "            <td>0</td>\n",
       "        </tr>\n",
       "        <tr>\n",
       "            <td>3</td>\n",
       "            <td>Aniseed Syrup</td>\n",
       "            <td>1</td>\n",
       "            <td>2</td>\n",
       "            <td>12 - 550 ml bottles</td>\n",
       "            <td>10</td>\n",
       "            <td>13</td>\n",
       "            <td>70</td>\n",
       "            <td>25</td>\n",
       "            <td>0</td>\n",
       "        </tr>\n",
       "        <tr>\n",
       "            <td>4</td>\n",
       "            <td>Chef Anton&#x27;s Cajun Seasoning</td>\n",
       "            <td>2</td>\n",
       "            <td>2</td>\n",
       "            <td>48 - 6 oz jars</td>\n",
       "            <td>22</td>\n",
       "            <td>53</td>\n",
       "            <td>0</td>\n",
       "            <td>0</td>\n",
       "            <td>0</td>\n",
       "        </tr>\n",
       "        <tr>\n",
       "            <td>5</td>\n",
       "            <td>Chef Anton&#x27;s Gumbo Mix</td>\n",
       "            <td>2</td>\n",
       "            <td>2</td>\n",
       "            <td>36 boxes</td>\n",
       "            <td>21.35</td>\n",
       "            <td>0</td>\n",
       "            <td>0</td>\n",
       "            <td>0</td>\n",
       "            <td>1</td>\n",
       "        </tr>\n",
       "    </tbody>\n",
       "</table>"
      ],
      "text/plain": [
       "[(1, 'Chai', 1, 1, '10 boxes x 20 bags', 18, 39, 0, 10, '0'),\n",
       " (2, 'Chang', 1, 1, '24 - 12 oz bottles', 19, 17, 40, 25, '0'),\n",
       " (3, 'Aniseed Syrup', 1, 2, '12 - 550 ml bottles', 10, 13, 70, 25, '0'),\n",
       " (4, \"Chef Anton's Cajun Seasoning\", 2, 2, '48 - 6 oz jars', 22, 53, 0, 0, '0'),\n",
       " (5, \"Chef Anton's Gumbo Mix\", 2, 2, '36 boxes', 21.35, 0, 0, 0, '1')]"
      ]
     },
     "execution_count": 51,
     "metadata": {},
     "output_type": "execute_result"
    }
   ],
   "source": [
    "%%sql\n",
    "SELECT * FROM Products LIMIT 5;"
   ]
  },
  {
   "cell_type": "code",
   "execution_count": 52,
   "id": "2156f867",
   "metadata": {},
   "outputs": [
    {
     "name": "stdout",
     "output_type": "stream",
     "text": [
      " * sqlite:///northwind.db\n",
      "Done.\n"
     ]
    },
    {
     "data": {
      "text/html": [
       "<table>\n",
       "    <thead>\n",
       "        <tr>\n",
       "            <th>CustomerID</th>\n",
       "            <th>CustomerName</th>\n",
       "            <th>ContactName</th>\n",
       "            <th>ContactTitle</th>\n",
       "            <th>Address</th>\n",
       "            <th>City</th>\n",
       "            <th>Region</th>\n",
       "            <th>PostalCode</th>\n",
       "            <th>Country</th>\n",
       "            <th>Phone</th>\n",
       "            <th>Fax</th>\n",
       "        </tr>\n",
       "    </thead>\n",
       "    <tbody>\n",
       "        <tr>\n",
       "            <td>ALFKI</td>\n",
       "            <td>Alfreds Futterkiste</td>\n",
       "            <td>Maria Anders</td>\n",
       "            <td>Sales Representative</td>\n",
       "            <td>Obere Str. 57</td>\n",
       "            <td>Berlin</td>\n",
       "            <td>Western Europe</td>\n",
       "            <td>12209</td>\n",
       "            <td>Germany</td>\n",
       "            <td>030-0074321</td>\n",
       "            <td>030-0076545</td>\n",
       "        </tr>\n",
       "    </tbody>\n",
       "</table>"
      ],
      "text/plain": [
       "[('ALFKI', 'Alfreds Futterkiste', 'Maria Anders', 'Sales Representative', 'Obere Str. 57', 'Berlin', 'Western Europe', '12209', 'Germany', '030-0074321', '030-0076545')]"
      ]
     },
     "execution_count": 52,
     "metadata": {},
     "output_type": "execute_result"
    }
   ],
   "source": [
    "%%sql\n",
    "--WHERE is only for rows!\n",
    "SELECT * FROM Customers WHERE CustomerName = \"Alfreds Futterkiste\";"
   ]
  },
  {
   "cell_type": "markdown",
   "id": "425cbfb6",
   "metadata": {},
   "source": [
    "## Pattern Matching"
   ]
  },
  {
   "cell_type": "code",
   "execution_count": 53,
   "id": "95bc44ca",
   "metadata": {},
   "outputs": [
    {
     "name": "stdout",
     "output_type": "stream",
     "text": [
      " * sqlite:///northwind.db\n",
      "Done.\n"
     ]
    },
    {
     "data": {
      "text/html": [
       "<table>\n",
       "    <thead>\n",
       "        <tr>\n",
       "            <th>CustomerID</th>\n",
       "            <th>CustomerName</th>\n",
       "            <th>ContactName</th>\n",
       "            <th>ContactTitle</th>\n",
       "            <th>Address</th>\n",
       "            <th>City</th>\n",
       "            <th>Region</th>\n",
       "            <th>PostalCode</th>\n",
       "            <th>Country</th>\n",
       "            <th>Phone</th>\n",
       "            <th>Fax</th>\n",
       "        </tr>\n",
       "    </thead>\n",
       "    <tbody>\n",
       "        <tr>\n",
       "            <td>ALFKI</td>\n",
       "            <td>Alfreds Futterkiste</td>\n",
       "            <td>Maria Anders</td>\n",
       "            <td>Sales Representative</td>\n",
       "            <td>Obere Str. 57</td>\n",
       "            <td>Berlin</td>\n",
       "            <td>Western Europe</td>\n",
       "            <td>12209</td>\n",
       "            <td>Germany</td>\n",
       "            <td>030-0074321</td>\n",
       "            <td>030-0076545</td>\n",
       "        </tr>\n",
       "        <tr>\n",
       "            <td>BLAUS</td>\n",
       "            <td>Blauer See Delikatessen</td>\n",
       "            <td>Hanna Moos</td>\n",
       "            <td>Sales Representative</td>\n",
       "            <td>Forsterstr. 57</td>\n",
       "            <td>Mannheim</td>\n",
       "            <td>Western Europe</td>\n",
       "            <td>68306</td>\n",
       "            <td>Germany</td>\n",
       "            <td>0621-08460</td>\n",
       "            <td>0621-08924</td>\n",
       "        </tr>\n",
       "        <tr>\n",
       "            <td>DRACD</td>\n",
       "            <td>Drachenblut Delikatessen</td>\n",
       "            <td>Sven Ottlieb</td>\n",
       "            <td>Order Administrator</td>\n",
       "            <td>Walserweg 21</td>\n",
       "            <td>Aachen</td>\n",
       "            <td>Western Europe</td>\n",
       "            <td>52066</td>\n",
       "            <td>Germany</td>\n",
       "            <td>0241-039123</td>\n",
       "            <td>0241-059428</td>\n",
       "        </tr>\n",
       "        <tr>\n",
       "            <td>FRANK</td>\n",
       "            <td>Frankenversand</td>\n",
       "            <td>Peter Franken</td>\n",
       "            <td>Marketing Manager</td>\n",
       "            <td>Berliner Platz 43</td>\n",
       "            <td>München</td>\n",
       "            <td>Western Europe</td>\n",
       "            <td>80805</td>\n",
       "            <td>Germany</td>\n",
       "            <td>089-0877310</td>\n",
       "            <td>089-0877451</td>\n",
       "        </tr>\n",
       "        <tr>\n",
       "            <td>KOENE</td>\n",
       "            <td>Königlich Essen</td>\n",
       "            <td>Philip Cramer</td>\n",
       "            <td>Sales Associate</td>\n",
       "            <td>Maubelstr. 90</td>\n",
       "            <td>Brandenburg</td>\n",
       "            <td>Western Europe</td>\n",
       "            <td>14776</td>\n",
       "            <td>Germany</td>\n",
       "            <td>0555-09876</td>\n",
       "            <td>None</td>\n",
       "        </tr>\n",
       "    </tbody>\n",
       "</table>"
      ],
      "text/plain": [
       "[('ALFKI', 'Alfreds Futterkiste', 'Maria Anders', 'Sales Representative', 'Obere Str. 57', 'Berlin', 'Western Europe', '12209', 'Germany', '030-0074321', '030-0076545'),\n",
       " ('BLAUS', 'Blauer See Delikatessen', 'Hanna Moos', 'Sales Representative', 'Forsterstr. 57', 'Mannheim', 'Western Europe', '68306', 'Germany', '0621-08460', '0621-08924'),\n",
       " ('DRACD', 'Drachenblut Delikatessen', 'Sven Ottlieb', 'Order Administrator', 'Walserweg 21', 'Aachen', 'Western Europe', '52066', 'Germany', '0241-039123', '0241-059428'),\n",
       " ('FRANK', 'Frankenversand', 'Peter Franken', 'Marketing Manager', 'Berliner Platz 43', 'München', 'Western Europe', '80805', 'Germany', '089-0877310', '089-0877451'),\n",
       " ('KOENE', 'Königlich Essen', 'Philip Cramer', 'Sales Associate', 'Maubelstr. 90', 'Brandenburg', 'Western Europe', '14776', 'Germany', '0555-09876', None)]"
      ]
     },
     "execution_count": 53,
     "metadata": {},
     "output_type": "execute_result"
    }
   ],
   "source": [
    "%%sql\n",
    "SELECT * FROM Customers WHERE Country = \"Germany\" LIMIT 5;"
   ]
  },
  {
   "cell_type": "code",
   "execution_count": 54,
   "id": "1946bcf9",
   "metadata": {},
   "outputs": [
    {
     "name": "stdout",
     "output_type": "stream",
     "text": [
      " * sqlite:///northwind.db\n",
      "Done.\n"
     ]
    },
    {
     "data": {
      "text/html": [
       "<table>\n",
       "    <thead>\n",
       "        <tr>\n",
       "            <th>CustomerID</th>\n",
       "            <th>CustomerName</th>\n",
       "            <th>ContactName</th>\n",
       "            <th>ContactTitle</th>\n",
       "            <th>Address</th>\n",
       "            <th>City</th>\n",
       "            <th>Region</th>\n",
       "            <th>PostalCode</th>\n",
       "            <th>Country</th>\n",
       "            <th>Phone</th>\n",
       "            <th>Fax</th>\n",
       "        </tr>\n",
       "    </thead>\n",
       "    <tbody>\n",
       "    </tbody>\n",
       "</table>"
      ],
      "text/plain": [
       "[]"
      ]
     },
     "execution_count": 54,
     "metadata": {},
     "output_type": "execute_result"
    }
   ],
   "source": [
    "%%sql\n",
    "SELECT * FROM Customers WHERE CustomerName LIKE \"Alf\";"
   ]
  },
  {
   "cell_type": "code",
   "execution_count": 55,
   "id": "ed1d9eb6",
   "metadata": {},
   "outputs": [
    {
     "name": "stdout",
     "output_type": "stream",
     "text": [
      " * sqlite:///northwind.db\n",
      "Done.\n"
     ]
    },
    {
     "data": {
      "text/html": [
       "<table>\n",
       "    <thead>\n",
       "        <tr>\n",
       "            <th>CustomerID</th>\n",
       "            <th>CustomerName</th>\n",
       "            <th>ContactName</th>\n",
       "            <th>ContactTitle</th>\n",
       "            <th>Address</th>\n",
       "            <th>City</th>\n",
       "            <th>Region</th>\n",
       "            <th>PostalCode</th>\n",
       "            <th>Country</th>\n",
       "            <th>Phone</th>\n",
       "            <th>Fax</th>\n",
       "        </tr>\n",
       "    </thead>\n",
       "    <tbody>\n",
       "        <tr>\n",
       "            <td>ALFKI</td>\n",
       "            <td>Alfreds Futterkiste</td>\n",
       "            <td>Maria Anders</td>\n",
       "            <td>Sales Representative</td>\n",
       "            <td>Obere Str. 57</td>\n",
       "            <td>Berlin</td>\n",
       "            <td>Western Europe</td>\n",
       "            <td>12209</td>\n",
       "            <td>Germany</td>\n",
       "            <td>030-0074321</td>\n",
       "            <td>030-0076545</td>\n",
       "        </tr>\n",
       "    </tbody>\n",
       "</table>"
      ],
      "text/plain": [
       "[('ALFKI', 'Alfreds Futterkiste', 'Maria Anders', 'Sales Representative', 'Obere Str. 57', 'Berlin', 'Western Europe', '12209', 'Germany', '030-0074321', '030-0076545')]"
      ]
     },
     "execution_count": 55,
     "metadata": {},
     "output_type": "execute_result"
    }
   ],
   "source": [
    "%%sql\n",
    "SELECT * FROM Customers WHERE CustomerName LIKE \"Alf%\";"
   ]
  },
  {
   "cell_type": "code",
   "execution_count": 56,
   "id": "5e3a1e3a",
   "metadata": {},
   "outputs": [
    {
     "name": "stdout",
     "output_type": "stream",
     "text": [
      " * sqlite:///northwind.db\n",
      "Done.\n"
     ]
    },
    {
     "data": {
      "text/html": [
       "<table>\n",
       "    <thead>\n",
       "        <tr>\n",
       "            <th>CustomerID</th>\n",
       "            <th>CustomerName</th>\n",
       "            <th>ContactName</th>\n",
       "            <th>ContactTitle</th>\n",
       "            <th>Address</th>\n",
       "            <th>City</th>\n",
       "            <th>Region</th>\n",
       "            <th>PostalCode</th>\n",
       "            <th>Country</th>\n",
       "            <th>Phone</th>\n",
       "            <th>Fax</th>\n",
       "        </tr>\n",
       "    </thead>\n",
       "    <tbody>\n",
       "        <tr>\n",
       "            <td>ALFKI</td>\n",
       "            <td>Alfreds Futterkiste</td>\n",
       "            <td>Maria Anders</td>\n",
       "            <td>Sales Representative</td>\n",
       "            <td>Obere Str. 57</td>\n",
       "            <td>Berlin</td>\n",
       "            <td>Western Europe</td>\n",
       "            <td>12209</td>\n",
       "            <td>Germany</td>\n",
       "            <td>030-0074321</td>\n",
       "            <td>030-0076545</td>\n",
       "        </tr>\n",
       "    </tbody>\n",
       "</table>"
      ],
      "text/plain": [
       "[('ALFKI', 'Alfreds Futterkiste', 'Maria Anders', 'Sales Representative', 'Obere Str. 57', 'Berlin', 'Western Europe', '12209', 'Germany', '030-0074321', '030-0076545')]"
      ]
     },
     "execution_count": 56,
     "metadata": {},
     "output_type": "execute_result"
    }
   ],
   "source": [
    "%%sql\n",
    "SELECT * FROM Customers WHERE CustomerName LIKE \"Alf%\";"
   ]
  },
  {
   "cell_type": "code",
   "execution_count": 57,
   "id": "00f0e68b",
   "metadata": {},
   "outputs": [
    {
     "name": "stdout",
     "output_type": "stream",
     "text": [
      " * sqlite:///northwind.db\n",
      "Done.\n"
     ]
    },
    {
     "data": {
      "text/html": [
       "<table>\n",
       "    <thead>\n",
       "        <tr>\n",
       "            <th>CustomerID</th>\n",
       "            <th>CustomerName</th>\n",
       "            <th>ContactName</th>\n",
       "            <th>ContactTitle</th>\n",
       "            <th>Address</th>\n",
       "            <th>City</th>\n",
       "            <th>Region</th>\n",
       "            <th>PostalCode</th>\n",
       "            <th>Country</th>\n",
       "            <th>Phone</th>\n",
       "            <th>Fax</th>\n",
       "        </tr>\n",
       "    </thead>\n",
       "    <tbody>\n",
       "        <tr>\n",
       "            <td>ALFKI</td>\n",
       "            <td>Alfreds Futterkiste</td>\n",
       "            <td>Maria Anders</td>\n",
       "            <td>Sales Representative</td>\n",
       "            <td>Obere Str. 57</td>\n",
       "            <td>Berlin</td>\n",
       "            <td>Western Europe</td>\n",
       "            <td>12209</td>\n",
       "            <td>Germany</td>\n",
       "            <td>030-0074321</td>\n",
       "            <td>030-0076545</td>\n",
       "        </tr>\n",
       "        <tr>\n",
       "            <td>ANATR</td>\n",
       "            <td>Ana Trujillo Emparedados y helados</td>\n",
       "            <td>Ana Trujillo</td>\n",
       "            <td>Owner</td>\n",
       "            <td>Avda. de la Constitución 2222</td>\n",
       "            <td>México D.F.</td>\n",
       "            <td>Central America</td>\n",
       "            <td>05021</td>\n",
       "            <td>Mexico</td>\n",
       "            <td>(5) 555-4729</td>\n",
       "            <td>(5) 555-3745</td>\n",
       "        </tr>\n",
       "        <tr>\n",
       "            <td>ANTON</td>\n",
       "            <td>Antonio Moreno Taquería</td>\n",
       "            <td>Antonio Moreno</td>\n",
       "            <td>Owner</td>\n",
       "            <td>Mataderos  2312</td>\n",
       "            <td>México D.F.</td>\n",
       "            <td>Central America</td>\n",
       "            <td>05023</td>\n",
       "            <td>Mexico</td>\n",
       "            <td>(5) 555-3932</td>\n",
       "            <td>None</td>\n",
       "        </tr>\n",
       "        <tr>\n",
       "            <td>AROUT</td>\n",
       "            <td>Around the Horn</td>\n",
       "            <td>Thomas Hardy</td>\n",
       "            <td>Sales Representative</td>\n",
       "            <td>120 Hanover Sq.</td>\n",
       "            <td>London</td>\n",
       "            <td>British Isles</td>\n",
       "            <td>WA1 1DP</td>\n",
       "            <td>UK</td>\n",
       "            <td>(171) 555-7788</td>\n",
       "            <td>(171) 555-6750</td>\n",
       "        </tr>\n",
       "    </tbody>\n",
       "</table>"
      ],
      "text/plain": [
       "[('ALFKI', 'Alfreds Futterkiste', 'Maria Anders', 'Sales Representative', 'Obere Str. 57', 'Berlin', 'Western Europe', '12209', 'Germany', '030-0074321', '030-0076545'),\n",
       " ('ANATR', 'Ana Trujillo Emparedados y helados', 'Ana Trujillo', 'Owner', 'Avda. de la Constitución 2222', 'México D.F.', 'Central America', '05021', 'Mexico', '(5) 555-4729', '(5) 555-3745'),\n",
       " ('ANTON', 'Antonio Moreno Taquería', 'Antonio Moreno', 'Owner', 'Mataderos  2312', 'México D.F.', 'Central America', '05023', 'Mexico', '(5) 555-3932', None),\n",
       " ('AROUT', 'Around the Horn', 'Thomas Hardy', 'Sales Representative', '120 Hanover Sq.', 'London', 'British Isles', 'WA1 1DP', 'UK', '(171) 555-7788', '(171) 555-6750')]"
      ]
     },
     "execution_count": 57,
     "metadata": {},
     "output_type": "execute_result"
    }
   ],
   "source": [
    "%%sql\n",
    "SELECT * FROM Customers WHERE CustomerName LIKE \"A%\";"
   ]
  },
  {
   "cell_type": "code",
   "execution_count": 58,
   "id": "9f41a8cc",
   "metadata": {},
   "outputs": [
    {
     "name": "stdout",
     "output_type": "stream",
     "text": [
      " * sqlite:///northwind.db\n",
      "Done.\n"
     ]
    },
    {
     "data": {
      "text/html": [
       "<table>\n",
       "    <thead>\n",
       "        <tr>\n",
       "            <th>CustomerID</th>\n",
       "            <th>CustomerName</th>\n",
       "            <th>ContactName</th>\n",
       "            <th>ContactTitle</th>\n",
       "            <th>Address</th>\n",
       "            <th>City</th>\n",
       "            <th>Region</th>\n",
       "            <th>PostalCode</th>\n",
       "            <th>Country</th>\n",
       "            <th>Phone</th>\n",
       "            <th>Fax</th>\n",
       "        </tr>\n",
       "    </thead>\n",
       "    <tbody>\n",
       "        <tr>\n",
       "            <td>ALFKI</td>\n",
       "            <td>Alfreds Futterkiste</td>\n",
       "            <td>Maria Anders</td>\n",
       "            <td>Sales Representative</td>\n",
       "            <td>Obere Str. 57</td>\n",
       "            <td>Berlin</td>\n",
       "            <td>Western Europe</td>\n",
       "            <td>12209</td>\n",
       "            <td>Germany</td>\n",
       "            <td>030-0074321</td>\n",
       "            <td>030-0076545</td>\n",
       "        </tr>\n",
       "        <tr>\n",
       "            <td>ANATR</td>\n",
       "            <td>Ana Trujillo Emparedados y helados</td>\n",
       "            <td>Ana Trujillo</td>\n",
       "            <td>Owner</td>\n",
       "            <td>Avda. de la Constitución 2222</td>\n",
       "            <td>México D.F.</td>\n",
       "            <td>Central America</td>\n",
       "            <td>05021</td>\n",
       "            <td>Mexico</td>\n",
       "            <td>(5) 555-4729</td>\n",
       "            <td>(5) 555-3745</td>\n",
       "        </tr>\n",
       "        <tr>\n",
       "            <td>ANTON</td>\n",
       "            <td>Antonio Moreno Taquería</td>\n",
       "            <td>Antonio Moreno</td>\n",
       "            <td>Owner</td>\n",
       "            <td>Mataderos  2312</td>\n",
       "            <td>México D.F.</td>\n",
       "            <td>Central America</td>\n",
       "            <td>05023</td>\n",
       "            <td>Mexico</td>\n",
       "            <td>(5) 555-3932</td>\n",
       "            <td>None</td>\n",
       "        </tr>\n",
       "        <tr>\n",
       "            <td>AROUT</td>\n",
       "            <td>Around the Horn</td>\n",
       "            <td>Thomas Hardy</td>\n",
       "            <td>Sales Representative</td>\n",
       "            <td>120 Hanover Sq.</td>\n",
       "            <td>London</td>\n",
       "            <td>British Isles</td>\n",
       "            <td>WA1 1DP</td>\n",
       "            <td>UK</td>\n",
       "            <td>(171) 555-7788</td>\n",
       "            <td>(171) 555-6750</td>\n",
       "        </tr>\n",
       "    </tbody>\n",
       "</table>"
      ],
      "text/plain": [
       "[('ALFKI', 'Alfreds Futterkiste', 'Maria Anders', 'Sales Representative', 'Obere Str. 57', 'Berlin', 'Western Europe', '12209', 'Germany', '030-0074321', '030-0076545'),\n",
       " ('ANATR', 'Ana Trujillo Emparedados y helados', 'Ana Trujillo', 'Owner', 'Avda. de la Constitución 2222', 'México D.F.', 'Central America', '05021', 'Mexico', '(5) 555-4729', '(5) 555-3745'),\n",
       " ('ANTON', 'Antonio Moreno Taquería', 'Antonio Moreno', 'Owner', 'Mataderos  2312', 'México D.F.', 'Central America', '05023', 'Mexico', '(5) 555-3932', None),\n",
       " ('AROUT', 'Around the Horn', 'Thomas Hardy', 'Sales Representative', '120 Hanover Sq.', 'London', 'British Isles', 'WA1 1DP', 'UK', '(171) 555-7788', '(171) 555-6750')]"
      ]
     },
     "execution_count": 58,
     "metadata": {},
     "output_type": "execute_result"
    }
   ],
   "source": [
    "%%sql\n",
    "SELECT * FROM Customers WHERE CustomerName LIKE \"a%\";"
   ]
  },
  {
   "cell_type": "code",
   "execution_count": 66,
   "id": "5e3066d6",
   "metadata": {},
   "outputs": [
    {
     "name": "stdout",
     "output_type": "stream",
     "text": [
      " * sqlite:///northwind.db\n",
      "Done.\n"
     ]
    },
    {
     "data": {
      "text/html": [
       "<table>\n",
       "    <thead>\n",
       "        <tr>\n",
       "            <th>CustomerID</th>\n",
       "            <th>CustomerName</th>\n",
       "            <th>ContactName</th>\n",
       "            <th>ContactTitle</th>\n",
       "            <th>Address</th>\n",
       "            <th>City</th>\n",
       "            <th>Region</th>\n",
       "            <th>PostalCode</th>\n",
       "            <th>Country</th>\n",
       "            <th>Phone</th>\n",
       "            <th>Fax</th>\n",
       "        </tr>\n",
       "    </thead>\n",
       "    <tbody>\n",
       "        <tr>\n",
       "            <td>ANTON</td>\n",
       "            <td>Antonio Moreno Taquería</td>\n",
       "            <td>Antonio Moreno</td>\n",
       "            <td>Owner</td>\n",
       "            <td>Mataderos  2312</td>\n",
       "            <td>México D.F.</td>\n",
       "            <td>Central America</td>\n",
       "            <td>05023</td>\n",
       "            <td>Mexico</td>\n",
       "            <td>(5) 555-3932</td>\n",
       "            <td>None</td>\n",
       "        </tr>\n",
       "        <tr>\n",
       "            <td>CENTC</td>\n",
       "            <td>Centro comercial Moctezuma</td>\n",
       "            <td>Francisco Chang</td>\n",
       "            <td>Marketing Manager</td>\n",
       "            <td>Sierras de Granada 9993</td>\n",
       "            <td>México D.F.</td>\n",
       "            <td>Central America</td>\n",
       "            <td>05022</td>\n",
       "            <td>Mexico</td>\n",
       "            <td>(5) 555-3392</td>\n",
       "            <td>(5) 555-7293</td>\n",
       "        </tr>\n",
       "        <tr>\n",
       "            <td>GODOS</td>\n",
       "            <td>Godos Cocina Típica</td>\n",
       "            <td>José Pedro Freyre</td>\n",
       "            <td>Sales Manager</td>\n",
       "            <td>C/ Romero, 33</td>\n",
       "            <td>Sevilla</td>\n",
       "            <td>Southern Europe</td>\n",
       "            <td>41101</td>\n",
       "            <td>Spain</td>\n",
       "            <td>(95) 555 82 82</td>\n",
       "            <td>None</td>\n",
       "        </tr>\n",
       "        <tr>\n",
       "            <td>QUEDE</td>\n",
       "            <td>Que Delícia</td>\n",
       "            <td>Bernardo Batista</td>\n",
       "            <td>Accounting Manager</td>\n",
       "            <td>Rua da Panificadora, 12</td>\n",
       "            <td>Rio de Janeiro</td>\n",
       "            <td>South America</td>\n",
       "            <td>02389-673</td>\n",
       "            <td>Brazil</td>\n",
       "            <td>(21) 555-4252</td>\n",
       "            <td>(21) 555-4545</td>\n",
       "        </tr>\n",
       "        <tr>\n",
       "            <td>QUEEN</td>\n",
       "            <td>Queen Cozinha</td>\n",
       "            <td>Lúcia Carvalho</td>\n",
       "            <td>Marketing Assistant</td>\n",
       "            <td>Alameda dos Canàrios, 891</td>\n",
       "            <td>Sao Paulo</td>\n",
       "            <td>South America</td>\n",
       "            <td>05487-020</td>\n",
       "            <td>Brazil</td>\n",
       "            <td>(11) 555-1189</td>\n",
       "            <td>None</td>\n",
       "        </tr>\n",
       "        <tr>\n",
       "            <td>WELLI</td>\n",
       "            <td>Wellington Importadora</td>\n",
       "            <td>Paula Parente</td>\n",
       "            <td>Sales Manager</td>\n",
       "            <td>Rua do Mercado, 12</td>\n",
       "            <td>Resende</td>\n",
       "            <td>South America</td>\n",
       "            <td>08737-363</td>\n",
       "            <td>Brazil</td>\n",
       "            <td>(14) 555-8122</td>\n",
       "            <td>None</td>\n",
       "        </tr>\n",
       "        <tr>\n",
       "            <td>WILMK</td>\n",
       "            <td>Wilman Kala</td>\n",
       "            <td>Matti Karttunen</td>\n",
       "            <td>Owner/Marketing Assistant</td>\n",
       "            <td>Keskuskatu 45</td>\n",
       "            <td>Helsinki</td>\n",
       "            <td>Scandinavia</td>\n",
       "            <td>21240</td>\n",
       "            <td>Finland</td>\n",
       "            <td>90-224 8858</td>\n",
       "            <td>90-224 8858</td>\n",
       "        </tr>\n",
       "    </tbody>\n",
       "</table>"
      ],
      "text/plain": [
       "[('ANTON', 'Antonio Moreno Taquería', 'Antonio Moreno', 'Owner', 'Mataderos  2312', 'México D.F.', 'Central America', '05023', 'Mexico', '(5) 555-3932', None),\n",
       " ('CENTC', 'Centro comercial Moctezuma', 'Francisco Chang', 'Marketing Manager', 'Sierras de Granada 9993', 'México D.F.', 'Central America', '05022', 'Mexico', '(5) 555-3392', '(5) 555-7293'),\n",
       " ('GODOS', 'Godos Cocina Típica', 'José Pedro Freyre', 'Sales Manager', 'C/ Romero, 33', 'Sevilla', 'Southern Europe', '41101', 'Spain', '(95) 555 82 82', None),\n",
       " ('QUEDE', 'Que Delícia', 'Bernardo Batista', 'Accounting Manager', 'Rua da Panificadora, 12', 'Rio de Janeiro', 'South America', '02389-673', 'Brazil', '(21) 555-4252', '(21) 555-4545'),\n",
       " ('QUEEN', 'Queen Cozinha', 'Lúcia Carvalho', 'Marketing Assistant', 'Alameda dos Canàrios, 891', 'Sao Paulo', 'South America', '05487-020', 'Brazil', '(11) 555-1189', None),\n",
       " ('WELLI', 'Wellington Importadora', 'Paula Parente', 'Sales Manager', 'Rua do Mercado, 12', 'Resende', 'South America', '08737-363', 'Brazil', '(14) 555-8122', None),\n",
       " ('WILMK', 'Wilman Kala', 'Matti Karttunen', 'Owner/Marketing Assistant', 'Keskuskatu 45', 'Helsinki', 'Scandinavia', '21240', 'Finland', '90-224 8858', '90-224 8858')]"
      ]
     },
     "execution_count": 66,
     "metadata": {},
     "output_type": "execute_result"
    }
   ],
   "source": [
    "%%sql\n",
    "SELECT * FROM Customers WHERE CustomerName LIKE \"%a\";"
   ]
  },
  {
   "cell_type": "markdown",
   "id": "b5cd4fb4",
   "metadata": {},
   "source": [
    "## Dates"
   ]
  },
  {
   "cell_type": "code",
   "execution_count": 79,
   "id": "166b6290",
   "metadata": {},
   "outputs": [
    {
     "name": "stdout",
     "output_type": "stream",
     "text": [
      " * sqlite:///northwind.db\n",
      "Done.\n"
     ]
    },
    {
     "data": {
      "text/html": [
       "<table>\n",
       "    <thead>\n",
       "        <tr>\n",
       "            <th>OrderID</th>\n",
       "            <th>CustomerID</th>\n",
       "            <th>EmployeeID</th>\n",
       "            <th>OrderDate</th>\n",
       "            <th>RequiredDate</th>\n",
       "            <th>ShippedDate</th>\n",
       "            <th>ShipVia</th>\n",
       "            <th>Freight</th>\n",
       "            <th>ShipName</th>\n",
       "            <th>ShipAddress</th>\n",
       "            <th>ShipCity</th>\n",
       "            <th>ShipRegion</th>\n",
       "            <th>ShipPostalCode</th>\n",
       "            <th>ShipCountry</th>\n",
       "        </tr>\n",
       "    </thead>\n",
       "    <tbody>\n",
       "    </tbody>\n",
       "</table>"
      ],
      "text/plain": [
       "[]"
      ]
     },
     "execution_count": 79,
     "metadata": {},
     "output_type": "execute_result"
    }
   ],
   "source": [
    "%%sql\n",
    "--You need to write the date pattern here!\n",
    "SELECT * FROM Orders WHERE OrderDate BETWEEN \"2015\" AND \"2017\" LIMIT 5;"
   ]
  },
  {
   "cell_type": "code",
   "execution_count": 78,
   "id": "2c6a4f06",
   "metadata": {},
   "outputs": [
    {
     "name": "stdout",
     "output_type": "stream",
     "text": [
      " * sqlite:///northwind.db\n",
      "Done.\n"
     ]
    },
    {
     "data": {
      "text/html": [
       "<table>\n",
       "    <thead>\n",
       "        <tr>\n",
       "            <th>OrderID</th>\n",
       "            <th>CustomerID</th>\n",
       "            <th>EmployeeID</th>\n",
       "            <th>OrderDate</th>\n",
       "            <th>RequiredDate</th>\n",
       "            <th>ShippedDate</th>\n",
       "            <th>ShipVia</th>\n",
       "            <th>Freight</th>\n",
       "            <th>ShipName</th>\n",
       "            <th>ShipAddress</th>\n",
       "            <th>ShipCity</th>\n",
       "            <th>ShipRegion</th>\n",
       "            <th>ShipPostalCode</th>\n",
       "            <th>ShipCountry</th>\n",
       "        </tr>\n",
       "    </thead>\n",
       "    <tbody>\n",
       "        <tr>\n",
       "            <td>10248</td>\n",
       "            <td>VINET</td>\n",
       "            <td>5</td>\n",
       "            <td>2016-07-04</td>\n",
       "            <td>2016-08-01</td>\n",
       "            <td>2016-07-16</td>\n",
       "            <td>3</td>\n",
       "            <td>16.75</td>\n",
       "            <td>Vins et alcools Chevalier</td>\n",
       "            <td>59 rue de l-Abbaye</td>\n",
       "            <td>Reims</td>\n",
       "            <td>Western Europe</td>\n",
       "            <td>51100</td>\n",
       "            <td>France</td>\n",
       "        </tr>\n",
       "        <tr>\n",
       "            <td>10249</td>\n",
       "            <td>TOMSP</td>\n",
       "            <td>6</td>\n",
       "            <td>2016-07-05</td>\n",
       "            <td>2016-08-16</td>\n",
       "            <td>2016-07-10</td>\n",
       "            <td>1</td>\n",
       "            <td>22.25</td>\n",
       "            <td>Toms Spezialitäten</td>\n",
       "            <td>Luisenstr. 48</td>\n",
       "            <td>Münster</td>\n",
       "            <td>Western Europe</td>\n",
       "            <td>44087</td>\n",
       "            <td>Germany</td>\n",
       "        </tr>\n",
       "        <tr>\n",
       "            <td>10250</td>\n",
       "            <td>HANAR</td>\n",
       "            <td>4</td>\n",
       "            <td>2016-07-08</td>\n",
       "            <td>2016-08-05</td>\n",
       "            <td>2016-07-12</td>\n",
       "            <td>2</td>\n",
       "            <td>25</td>\n",
       "            <td>Hanari Carnes</td>\n",
       "            <td>Rua do Paço, 67</td>\n",
       "            <td>Rio de Janeiro</td>\n",
       "            <td>South America</td>\n",
       "            <td>05454-876</td>\n",
       "            <td>Brazil</td>\n",
       "        </tr>\n",
       "        <tr>\n",
       "            <td>10251</td>\n",
       "            <td>VICTE</td>\n",
       "            <td>3</td>\n",
       "            <td>2016-07-08</td>\n",
       "            <td>2016-08-05</td>\n",
       "            <td>2016-07-15</td>\n",
       "            <td>1</td>\n",
       "            <td>20.25</td>\n",
       "            <td>Victuailles en stock</td>\n",
       "            <td>2, rue du Commerce</td>\n",
       "            <td>Lyon</td>\n",
       "            <td>Western Europe</td>\n",
       "            <td>69004</td>\n",
       "            <td>France</td>\n",
       "        </tr>\n",
       "        <tr>\n",
       "            <td>10252</td>\n",
       "            <td>SUPRD</td>\n",
       "            <td>4</td>\n",
       "            <td>2016-07-09</td>\n",
       "            <td>2016-08-06</td>\n",
       "            <td>2016-07-11</td>\n",
       "            <td>2</td>\n",
       "            <td>36.25</td>\n",
       "            <td>Suprêmes délices</td>\n",
       "            <td>Boulevard Tirou, 255</td>\n",
       "            <td>Charleroi</td>\n",
       "            <td>Western Europe</td>\n",
       "            <td>B-6000</td>\n",
       "            <td>Belgium</td>\n",
       "        </tr>\n",
       "    </tbody>\n",
       "</table>"
      ],
      "text/plain": [
       "[(10248, 'VINET', 5, '2016-07-04', '2016-08-01', '2016-07-16', 3, 16.75, 'Vins et alcools Chevalier', '59 rue de l-Abbaye', 'Reims', 'Western Europe', '51100', 'France'),\n",
       " (10249, 'TOMSP', 6, '2016-07-05', '2016-08-16', '2016-07-10', 1, 22.25, 'Toms Spezialitäten', 'Luisenstr. 48', 'Münster', 'Western Europe', '44087', 'Germany'),\n",
       " (10250, 'HANAR', 4, '2016-07-08', '2016-08-05', '2016-07-12', 2, 25, 'Hanari Carnes', 'Rua do Paço, 67', 'Rio de Janeiro', 'South America', '05454-876', 'Brazil'),\n",
       " (10251, 'VICTE', 3, '2016-07-08', '2016-08-05', '2016-07-15', 1, 20.25, 'Victuailles en stock', '2, rue du Commerce', 'Lyon', 'Western Europe', '69004', 'France'),\n",
       " (10252, 'SUPRD', 4, '2016-07-09', '2016-08-06', '2016-07-11', 2, 36.25, 'Suprêmes délices', 'Boulevard Tirou, 255', 'Charleroi', 'Western Europe', 'B-6000', 'Belgium')]"
      ]
     },
     "execution_count": 78,
     "metadata": {},
     "output_type": "execute_result"
    }
   ],
   "source": [
    "%%sql\n",
    "--2015 is excluded and 2017 is included\n",
    "SELECT * FROM Orders WHERE OrderDate BETWEEN \"2015-xx-xx\" AND \"2017-xx-xx\" LIMIT 5;"
   ]
  },
  {
   "cell_type": "markdown",
   "id": "88f147a0",
   "metadata": {},
   "source": [
    "## Numbers"
   ]
  },
  {
   "cell_type": "code",
   "execution_count": 81,
   "id": "b6114e2e",
   "metadata": {},
   "outputs": [
    {
     "name": "stdout",
     "output_type": "stream",
     "text": [
      " * sqlite:///northwind.db\n",
      "Done.\n"
     ]
    },
    {
     "data": {
      "text/plain": [
       "[]"
      ]
     },
     "execution_count": 81,
     "metadata": {},
     "output_type": "execute_result"
    }
   ],
   "source": [
    "%%sql\n",
    "ALTER TABLE Products RENAME COLUMN UnitPrice TO Price;"
   ]
  },
  {
   "cell_type": "code",
   "execution_count": 83,
   "id": "88f147a0",
   "metadata": {},
   "outputs": [
    {
     "name": "stdout",
     "output_type": "stream",
     "text": [
      " * sqlite:///northwind.db\n",
      "Done.\n"
     ]
    },
    {
     "data": {
      "text/html": [
       "<table>\n",
       "    <thead>\n",
       "        <tr>\n",
       "            <th>Price</th>\n",
       "        </tr>\n",
       "    </thead>\n",
       "    <tbody>\n",
       "        <tr>\n",
       "            <td>18</td>\n",
       "        </tr>\n",
       "        <tr>\n",
       "            <td>19</td>\n",
       "        </tr>\n",
       "        <tr>\n",
       "            <td>10</td>\n",
       "        </tr>\n",
       "        <tr>\n",
       "            <td>22</td>\n",
       "        </tr>\n",
       "        <tr>\n",
       "            <td>21.35</td>\n",
       "        </tr>\n",
       "    </tbody>\n",
       "</table>"
      ],
      "text/plain": [
       "[(18,), (19,), (10,), (22,), (21.35,)]"
      ]
     },
     "execution_count": 83,
     "metadata": {},
     "output_type": "execute_result"
    }
   ],
   "source": [
    "%%sql\n",
    "SELECT Price FROM PRODUCTS LIMIT 5;"
   ]
  },
  {
   "cell_type": "markdown",
   "id": "c601e2aa",
   "metadata": {},
   "source": [
    "### Aggregation\n",
    "combining multiple rows into a single summary value 💡\n",
    "very important for data scientist🎯"
   ]
  },
  {
   "cell_type": "code",
   "execution_count": 86,
   "id": "0398afd9",
   "metadata": {},
   "outputs": [
    {
     "name": "stdout",
     "output_type": "stream",
     "text": [
      " * sqlite:///northwind.db\n",
      "Done.\n"
     ]
    },
    {
     "data": {
      "text/html": [
       "<table>\n",
       "    <thead>\n",
       "        <tr>\n",
       "            <th>AVG(Price)</th>\n",
       "        </tr>\n",
       "    </thead>\n",
       "    <tbody>\n",
       "        <tr>\n",
       "            <td>28.866363636363637</td>\n",
       "        </tr>\n",
       "    </tbody>\n",
       "</table>"
      ],
      "text/plain": [
       "[(28.866363636363637,)]"
      ]
     },
     "execution_count": 86,
     "metadata": {},
     "output_type": "execute_result"
    }
   ],
   "source": [
    "%%sql \n",
    "SELECT AVG(Price) FROM Products;"
   ]
  },
  {
   "cell_type": "code",
   "execution_count": null,
   "id": "f81e7bdb",
   "metadata": {},
   "outputs": [
    {
     "name": "stdout",
     "output_type": "stream",
     "text": [
      " * sqlite:///northwind.db\n",
      "Done.\n"
     ]
    },
    {
     "data": {
      "text/html": [
       "<table>\n",
       "    <thead>\n",
       "        <tr>\n",
       "            <th>COUNT(Price)</th>\n",
       "        </tr>\n",
       "    </thead>\n",
       "    <tbody>\n",
       "        <tr>\n",
       "            <td>77</td>\n",
       "        </tr>\n",
       "    </tbody>\n",
       "</table>"
      ],
      "text/plain": [
       "[(77,)]"
      ]
     },
     "execution_count": 87,
     "metadata": {},
     "output_type": "execute_result"
    }
   ],
   "source": [
    "%%sql\n",
    "--Column\n",
    "SELECT COUNT(Price) FROM Products;"
   ]
  },
  {
   "cell_type": "code",
   "execution_count": 88,
   "id": "badec723",
   "metadata": {},
   "outputs": [
    {
     "name": "stdout",
     "output_type": "stream",
     "text": [
      " * sqlite:///northwind.db\n",
      "Done.\n"
     ]
    },
    {
     "data": {
      "text/html": [
       "<table>\n",
       "    <thead>\n",
       "        <tr>\n",
       "            <th>COUNT(*)</th>\n",
       "        </tr>\n",
       "    </thead>\n",
       "    <tbody>\n",
       "        <tr>\n",
       "            <td>77</td>\n",
       "        </tr>\n",
       "    </tbody>\n",
       "</table>"
      ],
      "text/plain": [
       "[(77,)]"
      ]
     },
     "execution_count": 88,
     "metadata": {},
     "output_type": "execute_result"
    }
   ],
   "source": [
    "%%sql\n",
    "--Rows\n",
    "SELECT COUNT(*) FROM Products;"
   ]
  },
  {
   "cell_type": "code",
   "execution_count": 90,
   "id": "c4a5a3d2",
   "metadata": {},
   "outputs": [
    {
     "name": "stdout",
     "output_type": "stream",
     "text": [
      " * sqlite:///northwind.db\n",
      "Done.\n"
     ]
    },
    {
     "data": {
      "text/html": [
       "<table>\n",
       "    <thead>\n",
       "        <tr>\n",
       "            <th>MIN(Price)</th>\n",
       "        </tr>\n",
       "    </thead>\n",
       "    <tbody>\n",
       "        <tr>\n",
       "            <td>2.5</td>\n",
       "        </tr>\n",
       "    </tbody>\n",
       "</table>"
      ],
      "text/plain": [
       "[(2.5,)]"
      ]
     },
     "execution_count": 90,
     "metadata": {},
     "output_type": "execute_result"
    }
   ],
   "source": [
    "%%sql\n",
    "SELECT MIN(Price) FROM Products;"
   ]
  },
  {
   "cell_type": "code",
   "execution_count": null,
   "id": "70c0bf62",
   "metadata": {},
   "outputs": [
    {
     "name": "stdout",
     "output_type": "stream",
     "text": [
      " * sqlite:///northwind.db\n",
      "Done.\n"
     ]
    },
    {
     "data": {
      "text/html": [
       "<table>\n",
       "    <thead>\n",
       "        <tr>\n",
       "            <th>MinPrice</th>\n",
       "        </tr>\n",
       "    </thead>\n",
       "    <tbody>\n",
       "        <tr>\n",
       "            <td>2.5</td>\n",
       "        </tr>\n",
       "    </tbody>\n",
       "</table>"
      ],
      "text/plain": [
       "[(2.5,)]"
      ]
     },
     "execution_count": 89,
     "metadata": {},
     "output_type": "execute_result"
    }
   ],
   "source": [
    "%%sql\n",
    "--Aliasing = giving something a temporary nickname 💡\n",
    "--It's better to named it like this because when we're working with multiple tables we need to know what these things are called\n",
    "SELECT MIN(Price) AS MinPrice FROM Products;"
   ]
  },
  {
   "cell_type": "code",
   "execution_count": null,
   "id": "876064cd",
   "metadata": {},
   "outputs": [],
   "source": []
  }
 ],
 "metadata": {
  "kernelspec": {
   "display_name": "venv",
   "language": "python",
   "name": "python3"
  },
  "language_info": {
   "codemirror_mode": {
    "name": "ipython",
    "version": 3
   },
   "file_extension": ".py",
   "mimetype": "text/x-python",
   "name": "python",
   "nbconvert_exporter": "python",
   "pygments_lexer": "ipython3",
   "version": "3.13.3"
  }
 },
 "nbformat": 4,
 "nbformat_minor": 5
}
