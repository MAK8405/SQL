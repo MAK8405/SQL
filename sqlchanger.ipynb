{
 "cells": [
  {
   "cell_type": "code",
   "execution_count": 8,
   "id": "ffe11284",
   "metadata": {},
   "outputs": [
    {
     "name": "stdout",
     "output_type": "stream",
     "text": [
      "The sql extension is already loaded. To reload it, use:\n",
      "  %reload_ext sql\n"
     ]
    }
   ],
   "source": [
    "%load_ext sql\n",
    "%sql sqlite:///northwind.db"
   ]
  },
  {
   "cell_type": "code",
   "execution_count": 9,
   "id": "1dc081d6",
   "metadata": {},
   "outputs": [
    {
     "name": "stdout",
     "output_type": "stream",
     "text": [
      " * sqlite:///northwind.db\n",
      "Done.\n"
     ]
    },
    {
     "data": {
      "text/html": [
       "<table>\n",
       "    <thead>\n",
       "        <tr>\n",
       "            <th>CustomerID</th>\n",
       "            <th>COUNT(*)</th>\n",
       "        </tr>\n",
       "    </thead>\n",
       "    <tbody>\n",
       "    </tbody>\n",
       "</table>"
      ],
      "text/plain": [
       "[]"
      ]
     },
     "execution_count": 9,
     "metadata": {},
     "output_type": "execute_result"
    }
   ],
   "source": [
    "%%sql\n",
    "SELECT CustomerID, COUNT(*) \n",
    "FROM Customers \n",
    "GROUP BY CustomerID \n",
    "HAVING COUNT(*) > 1;"
   ]
  },
  {
   "cell_type": "code",
   "execution_count": 10,
   "id": "5d8efa42",
   "metadata": {},
   "outputs": [
    {
     "name": "stdout",
     "output_type": "stream",
     "text": [
      " * sqlite:///northwind.db\n",
      "Done.\n"
     ]
    },
    {
     "data": {
      "text/plain": [
       "[]"
      ]
     },
     "execution_count": 10,
     "metadata": {},
     "output_type": "execute_result"
    }
   ],
   "source": [
    "%%sql\n",
    "CREATE TABLE Customers_new (\n",
    "    CustomerID TEXT PRIMARY KEY,\n",
    "    CustomerName TEXT,\n",
    "    ContactName TEXT,\n",
    "    ContactTitle TEXT,\n",
    "    Address TEXT,\n",
    "    City TEXT,\n",
    "    Region TEXT,\n",
    "    PostalCode TEXT,\n",
    "    Country TEXT,\n",
    "    Phone TEXT\n",
    ");\n"
   ]
  },
  {
   "cell_type": "code",
   "execution_count": 11,
   "id": "ee481d72",
   "metadata": {},
   "outputs": [
    {
     "name": "stdout",
     "output_type": "stream",
     "text": [
      " * sqlite:///northwind.db\n",
      "93 rows affected.\n"
     ]
    },
    {
     "data": {
      "text/plain": [
       "[]"
      ]
     },
     "execution_count": 11,
     "metadata": {},
     "output_type": "execute_result"
    }
   ],
   "source": [
    "%%sql\n",
    "INSERT INTO Customers_new (\n",
    "    CustomerID,\n",
    "    CustomerName,\n",
    "    ContactName,\n",
    "    ContactTitle,\n",
    "    Address,\n",
    "    City,\n",
    "    Region,\n",
    "    PostalCode,\n",
    "    Country,\n",
    "    Phone\n",
    ")\n",
    "SELECT\n",
    "    CustomerID,\n",
    "    CustomerName,\n",
    "    ContactName,\n",
    "    ContactTitle,\n",
    "    Address,\n",
    "    City,\n",
    "    Region,\n",
    "    PostalCode,\n",
    "    Country,\n",
    "    Phone\n",
    "FROM Customers;\n"
   ]
  },
  {
   "cell_type": "code",
   "execution_count": 12,
   "id": "9f7c12fc",
   "metadata": {},
   "outputs": [
    {
     "name": "stdout",
     "output_type": "stream",
     "text": [
      " * sqlite:///northwind.db\n",
      "Done.\n"
     ]
    },
    {
     "data": {
      "text/plain": [
       "[]"
      ]
     },
     "execution_count": 12,
     "metadata": {},
     "output_type": "execute_result"
    }
   ],
   "source": [
    "%%sql\n",
    "DROP TABLE Customers;"
   ]
  },
  {
   "cell_type": "code",
   "execution_count": 14,
   "id": "2ab90ee1",
   "metadata": {},
   "outputs": [
    {
     "name": "stdout",
     "output_type": "stream",
     "text": [
      " * sqlite:///northwind.db\n",
      "(sqlite3.OperationalError) error in view Customer and Suppliers by City: no such table: main.Customers\n",
      "[SQL: ALTER TABLE Customers_new RENAME TO Customers;]\n",
      "(Background on this error at: https://sqlalche.me/e/20/e3q8)\n"
     ]
    }
   ],
   "source": [
    "%%sql\n",
    "ALTER TABLE Customers_new RENAME TO Customers;"
   ]
  },
  {
   "cell_type": "code",
   "execution_count": 15,
   "id": "b07cc16c",
   "metadata": {},
   "outputs": [
    {
     "name": "stdout",
     "output_type": "stream",
     "text": [
      " * sqlite:///northwind.db\n",
      "Done.\n"
     ]
    },
    {
     "data": {
      "text/html": [
       "<table>\n",
       "    <thead>\n",
       "        <tr>\n",
       "            <th>name</th>\n",
       "        </tr>\n",
       "    </thead>\n",
       "    <tbody>\n",
       "        <tr>\n",
       "            <td>Customer and Suppliers by City</td>\n",
       "        </tr>\n",
       "        <tr>\n",
       "            <td>Invoices</td>\n",
       "        </tr>\n",
       "        <tr>\n",
       "            <td>Orders Qry</td>\n",
       "        </tr>\n",
       "        <tr>\n",
       "            <td>Quarterly Orders</td>\n",
       "        </tr>\n",
       "        <tr>\n",
       "            <td>Sales Totals by Amount</td>\n",
       "        </tr>\n",
       "    </tbody>\n",
       "</table>"
      ],
      "text/plain": [
       "[('Customer and Suppliers by City',),\n",
       " ('Invoices',),\n",
       " ('Orders Qry',),\n",
       " ('Quarterly Orders',),\n",
       " ('Sales Totals by Amount',)]"
      ]
     },
     "execution_count": 15,
     "metadata": {},
     "output_type": "execute_result"
    }
   ],
   "source": [
    "%%sql\n",
    "SELECT name\n",
    "FROM sqlite_master\n",
    "WHERE type = 'view' AND sql LIKE '%Customers%';"
   ]
  },
  {
   "cell_type": "code",
   "execution_count": 16,
   "id": "a51fc452",
   "metadata": {},
   "outputs": [
    {
     "name": "stdout",
     "output_type": "stream",
     "text": [
      " * sqlite:///northwind.db\n",
      "Done.\n",
      "Done.\n",
      "Done.\n",
      "Done.\n",
      "Done.\n"
     ]
    },
    {
     "data": {
      "text/plain": [
       "[]"
      ]
     },
     "execution_count": 16,
     "metadata": {},
     "output_type": "execute_result"
    }
   ],
   "source": [
    "%%sql\n",
    "DROP VIEW \"Customer and Suppliers by City\";\n",
    "DROP VIEW \"Invoices\";\n",
    "DROP VIEW \"Orders Qry\";\n",
    "DROP VIEW \"Quarterly Orders\";\n",
    "DROP VIEW \"Sales Totals by Amount\";"
   ]
  },
  {
   "cell_type": "code",
   "execution_count": null,
   "id": "784b8c38",
   "metadata": {},
   "outputs": [],
   "source": [
    "%%sql\n",
    "ALTER TABLE Customers_new RENAME TO Customers;"
   ]
  }
 ],
 "metadata": {
  "kernelspec": {
   "display_name": "venv",
   "language": "python",
   "name": "python3"
  },
  "language_info": {
   "codemirror_mode": {
    "name": "ipython",
    "version": 3
   },
   "file_extension": ".py",
   "mimetype": "text/x-python",
   "name": "python",
   "nbconvert_exporter": "python",
   "pygments_lexer": "ipython3",
   "version": "3.13.3"
  }
 },
 "nbformat": 4,
 "nbformat_minor": 5
}
